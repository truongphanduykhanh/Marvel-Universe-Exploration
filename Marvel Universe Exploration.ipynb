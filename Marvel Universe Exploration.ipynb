{
 "cells": [
  {
   "cell_type": "markdown",
   "metadata": {},
   "source": [
    "# Graph Application - Marvel Universe\n",
    "### 02/2019 | Khanh TRUONG"
   ]
  },
  {
   "cell_type": "code",
   "execution_count": 1,
   "metadata": {},
   "outputs": [
    {
     "name": "stderr",
     "output_type": "stream",
     "text": [
      "Warning message:\n",
      "\"package 'igraph' was built under R version 3.5.2\"\n",
      "Attaching package: 'igraph'\n",
      "\n",
      "The following objects are masked from 'package:stats':\n",
      "\n",
      "    decompose, spectrum\n",
      "\n",
      "The following object is masked from 'package:base':\n",
      "\n",
      "    union\n",
      "\n"
     ]
    }
   ],
   "source": [
    "# Import library\n",
    "library(igraph)\n",
    "library(ggplot2)"
   ]
  },
  {
   "cell_type": "markdown",
   "metadata": {},
   "source": [
    "# 1. Creating the graph"
   ]
  },
  {
   "cell_type": "code",
   "execution_count": 2,
   "metadata": {},
   "outputs": [
    {
     "data": {
      "text/plain": [
       "IGRAPH 1aa4464 U--- 19428 96662 -- \n",
       "+ edges from 1aa4464:\n",
       " [1]  1--6487  2--6488  2--6489  2--6490  2--6491  2--6492  2--6493  2--6494\n",
       " [9]  2--6495  2--6496  3--6497  3--6498  3--6499  3--6500  3--6501  3--6502\n",
       "[17]  3--6503  3--6504  3--6505  4--6506  4--6507  4--6508  5--6509  5--6510\n",
       "[25]  5--6511  6--6512  6--6513  6--6514  6--6515  7--6516  8--6517  8--6518\n",
       "[33]  9--6519  9--6520 10--6521 10--6522 10--6523 10--6524 10--6525 10--6526\n",
       "[41] 10--6527 10--6528 10--6529 10--6530 10--6531 10--6532 10--6533 10--6534\n",
       "[49] 10--6535 10--6536 10--6537 10--6538 10--6539 10--6540 10--6541 10--6542\n",
       "[57] 10--6543 10--6544 10--6545 10--6546 10--6547 10--6548 10--6549 10--6550\n",
       "[65] 10--6551 10--6552 10--6553 10--6554 10--6555 10--6556 10--6557 10--6558\n",
       "+ ... omitted several edges"
      ]
     },
     "metadata": {},
     "output_type": "display_data"
    }
   ],
   "source": [
    "# Import data\n",
    "marvel_edgelist <- read.table(\"marvel/marvel_edgelist.txt\", header = FALSE)\n",
    "marvel_vertices <- read.table(\"marvel/marvel_vertices.txt\", header = FALSE,\n",
    "                       stringsAsFactors=FALSE) # this option is very important\n",
    "\n",
    "# Create graph from data frame\n",
    "marvel_net <- graph_from_edgelist(as.matrix(marvel_edgelist), directed = FALSE)\n",
    "marvel_net"
   ]
  },
  {
   "cell_type": "code",
   "execution_count": 3,
   "metadata": {},
   "outputs": [],
   "source": [
    "# Add name attibutes to marvel_net\n",
    "V(marvel_net)$name <- marvel_vertices$V2"
   ]
  },
  {
   "cell_type": "code",
   "execution_count": 4,
   "metadata": {},
   "outputs": [
    {
     "name": "stderr",
     "output_type": "stream",
     "text": [
      "Number of vertices: 19428\n",
      "Number of edges: 96662\n"
     ]
    }
   ],
   "source": [
    "message('Number of vertices: ', vcount(marvel_net))\n",
    "message('Number of edges: ', ecount(marvel_net))"
   ]
  },
  {
   "cell_type": "code",
   "execution_count": 5,
   "metadata": {},
   "outputs": [
    {
     "name": "stderr",
     "output_type": "stream",
     "text": [
      "Graph is connected? FALSE\n",
      "Number of connected components: 23\n"
     ]
    },
    {
     "data": {
      "text/html": [
       "<ol class=list-inline>\n",
       "\t<li>19365</li>\n",
       "\t<li>8</li>\n",
       "\t<li>11</li>\n",
       "\t<li>2</li>\n",
       "\t<li>2</li>\n",
       "\t<li>2</li>\n",
       "\t<li>2</li>\n",
       "\t<li>2</li>\n",
       "\t<li>2</li>\n",
       "\t<li>2</li>\n",
       "\t<li>2</li>\n",
       "\t<li>3</li>\n",
       "\t<li>2</li>\n",
       "\t<li>2</li>\n",
       "\t<li>2</li>\n",
       "\t<li>2</li>\n",
       "\t<li>4</li>\n",
       "\t<li>2</li>\n",
       "\t<li>2</li>\n",
       "\t<li>2</li>\n",
       "\t<li>3</li>\n",
       "\t<li>2</li>\n",
       "\t<li>2</li>\n",
       "</ol>\n"
      ],
      "text/latex": [
       "\\begin{enumerate*}\n",
       "\\item 19365\n",
       "\\item 8\n",
       "\\item 11\n",
       "\\item 2\n",
       "\\item 2\n",
       "\\item 2\n",
       "\\item 2\n",
       "\\item 2\n",
       "\\item 2\n",
       "\\item 2\n",
       "\\item 2\n",
       "\\item 3\n",
       "\\item 2\n",
       "\\item 2\n",
       "\\item 2\n",
       "\\item 2\n",
       "\\item 4\n",
       "\\item 2\n",
       "\\item 2\n",
       "\\item 2\n",
       "\\item 3\n",
       "\\item 2\n",
       "\\item 2\n",
       "\\end{enumerate*}\n"
      ],
      "text/markdown": [
       "1. 19365\n",
       "2. 8\n",
       "3. 11\n",
       "4. 2\n",
       "5. 2\n",
       "6. 2\n",
       "7. 2\n",
       "8. 2\n",
       "9. 2\n",
       "10. 2\n",
       "11. 2\n",
       "12. 3\n",
       "13. 2\n",
       "14. 2\n",
       "15. 2\n",
       "16. 2\n",
       "17. 4\n",
       "18. 2\n",
       "19. 2\n",
       "20. 2\n",
       "21. 3\n",
       "22. 2\n",
       "23. 2\n",
       "\n",
       "\n"
      ],
      "text/plain": [
       " [1] 19365     8    11     2     2     2     2     2     2     2     2     3\n",
       "[13]     2     2     2     2     4     2     2     2     3     2     2"
      ]
     },
     "metadata": {},
     "output_type": "display_data"
    }
   ],
   "source": [
    "message('Graph is connected? ', is_connected(marvel_net))\n",
    "\n",
    "marvel_cc <- clusters(marvel_net)\n",
    "message('Number of connected components: ', marvel_cc$no)\n",
    "marvel_cc$csize # size of every connected component"
   ]
  },
  {
   "cell_type": "code",
   "execution_count": 6,
   "metadata": {},
   "outputs": [
    {
     "data": {
      "text/plain": [
       "IGRAPH c9ae21a UN-- 19365 96616 -- \n",
       "+ attr: name (v/c)\n",
       "+ edges from c9ae21a (vertex names):\n",
       " [1] 24-HOUR MAN/EMMANUEL--AA2 35   3-D MAN/CHARLES CHAN--M/PRM 35\n",
       " [3] 3-D MAN/CHARLES CHAN--M/PRM 36 3-D MAN/CHARLES CHAN--M/PRM 37\n",
       " [5] 3-D MAN/CHARLES CHAN--WI? 9    3-D MAN/CHARLES CHAN--AVF 4   \n",
       " [7] 3-D MAN/CHARLES CHAN--AVF 5    3-D MAN/CHARLES CHAN--H2 251  \n",
       " [9] 3-D MAN/CHARLES CHAN--H2 252   3-D MAN/CHARLES CHAN--COC 1   \n",
       "[11] 4-D MAN/MERCURIO    --T 208    4-D MAN/MERCURIO    --T 214   \n",
       "[13] 4-D MAN/MERCURIO    --T 215    4-D MAN/MERCURIO    --T 216   \n",
       "[15] 4-D MAN/MERCURIO    --T 440    4-D MAN/MERCURIO    --CM 51   \n",
       "+ ... omitted several edges"
      ]
     },
     "metadata": {},
     "output_type": "display_data"
    }
   ],
   "source": [
    "# Largest connected component vertices\n",
    "marvel_lcc_vertices <- which(marvel_cc$membership == which.max(marvel_cc$csize)) \n",
    "\n",
    "# Graph of largest connected component (add edges)\n",
    "marvel_lcc <- induced_subgraph(marvel_net, marvel_lcc_vertices)\n",
    "marvel_lcc"
   ]
  },
  {
   "cell_type": "markdown",
   "metadata": {},
   "source": [
    "# 2. Node mining"
   ]
  },
  {
   "cell_type": "code",
   "execution_count": 7,
   "metadata": {},
   "outputs": [
    {
     "data": {
      "text/html": [
       "<dl class=dl-horizontal>\n",
       "\t<dt>SPIDER-MAN/PETER PAR</dt>\n",
       "\t\t<dd>1625</dd>\n",
       "\t<dt>CAPTAIN AMERICA</dt>\n",
       "\t\t<dd>1367</dd>\n",
       "\t<dt>IRON MAN/TONY STARK </dt>\n",
       "\t\t<dd>1168</dd>\n",
       "\t<dt>THING/BENJAMIN J. GR</dt>\n",
       "\t\t<dd>990</dd>\n",
       "\t<dt>THOR/DR. DONALD BLAK</dt>\n",
       "\t\t<dd>965</dd>\n",
       "</dl>\n"
      ],
      "text/latex": [
       "\\begin{description*}\n",
       "\\item[SPIDER-MAN/PETER PAR] 1625\n",
       "\\item[CAPTAIN AMERICA] 1367\n",
       "\\item[IRON MAN/TONY STARK ] 1168\n",
       "\\item[THING/BENJAMIN J. GR] 990\n",
       "\\item[THOR/DR. DONALD BLAK] 965\n",
       "\\end{description*}\n"
      ],
      "text/markdown": [
       "SPIDER-MAN/PETER PAR\n",
       ":   1625CAPTAIN AMERICA\n",
       ":   1367IRON MAN/TONY STARK \n",
       ":   1168THING/BENJAMIN J. GR\n",
       ":   990THOR/DR. DONALD BLAK\n",
       ":   965\n",
       "\n"
      ],
      "text/plain": [
       "SPIDER-MAN/PETER PAR      CAPTAIN AMERICA IRON MAN/TONY STARK  \n",
       "                1625                 1367                 1168 \n",
       "THING/BENJAMIN J. GR THOR/DR. DONALD BLAK \n",
       "                 990                  965 "
      ]
     },
     "metadata": {},
     "output_type": "display_data"
    }
   ],
   "source": [
    "# Compute the node degrees\n",
    "marvel_degree <- degree(marvel_net)\n",
    "head(sort(marvel_degree, decreasing = TRUE),5) # Five biggest degrees characters\n",
    "\n",
    "# The characters who have most direct links with other characters (largest degrees) are:\n",
    "# Spiderman, Captain, Ironman, Thing and Thor"
   ]
  },
  {
   "cell_type": "code",
   "execution_count": 8,
   "metadata": {
    "scrolled": true
   },
   "outputs": [
    {
     "data": {
      "text/html": [
       "<dl class=dl-horizontal>\n",
       "\t<dt>SPIDER-MAN/PETER PAR</dt>\n",
       "\t\t<dd>28946999.2014146</dd>\n",
       "\t<dt>CAPTAIN AMERICA</dt>\n",
       "\t\t<dd>19071646.8325636</dd>\n",
       "\t<dt>IRON MAN/TONY STARK </dt>\n",
       "\t\t<dd>12994794.0729305</dd>\n",
       "\t<dt>HULK/DR. ROBERT BRUC</dt>\n",
       "\t\t<dd>10886784.7854991</dd>\n",
       "\t<dt>THOR/DR. DONALD BLAK</dt>\n",
       "\t\t<dd>10073089.3935321</dd>\n",
       "</dl>\n"
      ],
      "text/latex": [
       "\\begin{description*}\n",
       "\\item[SPIDER-MAN/PETER PAR] 28946999.2014146\n",
       "\\item[CAPTAIN AMERICA] 19071646.8325636\n",
       "\\item[IRON MAN/TONY STARK ] 12994794.0729305\n",
       "\\item[HULK/DR. ROBERT BRUC] 10886784.7854991\n",
       "\\item[THOR/DR. DONALD BLAK] 10073089.3935321\n",
       "\\end{description*}\n"
      ],
      "text/markdown": [
       "SPIDER-MAN/PETER PAR\n",
       ":   28946999.2014146CAPTAIN AMERICA\n",
       ":   19071646.8325636IRON MAN/TONY STARK \n",
       ":   12994794.0729305HULK/DR. ROBERT BRUC\n",
       ":   10886784.7854991THOR/DR. DONALD BLAK\n",
       ":   10073089.3935321\n",
       "\n"
      ],
      "text/plain": [
       "SPIDER-MAN/PETER PAR      CAPTAIN AMERICA IRON MAN/TONY STARK  \n",
       "            28946999             19071647             12994794 \n",
       "HULK/DR. ROBERT BRUC THOR/DR. DONALD BLAK \n",
       "            10886785             10073089 "
      ]
     },
     "metadata": {},
     "output_type": "display_data"
    }
   ],
   "source": [
    "# Compute the node betweenness\n",
    "marvel_betweenness <- betweenness(marvel_net)\n",
    "head(sort(marvel_betweenness, decreasing = TRUE),5) # Five biggest betweenness characters\n",
    "\n",
    "# As you can see below, 4 out of 5 are among top 5 biggest degrees (only except HULK)\n",
    "# So it seems that vertices have large degree GENERALLY also have large betweenness (not always),\n",
    "# which is understandable in practices."
   ]
  },
  {
   "cell_type": "markdown",
   "metadata": {},
   "source": [
    "# 3. Clustering"
   ]
  },
  {
   "cell_type": "code",
   "execution_count": 9,
   "metadata": {},
   "outputs": [
    {
     "data": {
      "text/plain": [
       "IGRAPH clustering multi level, groups: 56, mod: 0.69\n",
       "+ groups:\n",
       "  $`1`\n",
       "  [1] \"AMAZO-MAXI-WOMAN/\" \"DARLEGUNG, GEN.\"   \"MANT/ERNEST\"      \n",
       "  [4] \"MISS THING/MARY\"   \"PANTHER CUB/\"      \"STERLING\"         \n",
       "  [7] \"SWORDSMAN IV/\"     \"REMNANTS\"         \n",
       "  \n",
       "  $`2`\n",
       "   [1] \"ASHER, CARL\"          \"ASHER, DONNA\"         \"ASHER, MICHAEL\"      \n",
       "   [4] \"FAGIN\"                \"HOFFMAN\"              \"LUDLUM, ROSS\"        \n",
       "   [7] \"NILES, SEN. CATHERIN\" \"ORWELL\"               \"OSWALD\"              \n",
       "  [10] \"BHOOD 1\"              \"BHOOD 2\"             \n",
       "  + ... omitted several groups/vertices"
      ]
     },
     "metadata": {},
     "output_type": "display_data"
    }
   ],
   "source": [
    "# Clustering using Louvain algorithm\n",
    "res_multilevel <- cluster_louvain(marvel_net)\n",
    "res_multilevel # summary of clustering result"
   ]
  },
  {
   "cell_type": "code",
   "execution_count": 10,
   "metadata": {
    "scrolled": false
   },
   "outputs": [
    {
     "name": "stderr",
     "output_type": "stream",
     "text": [
      "Number of clusters: 56\n",
      "Modularity: 0.6879\n"
     ]
    }
   ],
   "source": [
    "message('Number of clusters: ', max(membership(res_multilevel))) \n",
    "message('Modularity: ', round(modularity(res_multilevel), 5))"
   ]
  },
  {
   "cell_type": "code",
   "execution_count": 11,
   "metadata": {},
   "outputs": [
    {
     "data": {
      "text/html": [
       "<strong>WOLVERINE/LOGAN :</strong> 36"
      ],
      "text/latex": [
       "\\textbf{WOLVERINE/LOGAN :} 36"
      ],
      "text/markdown": [
       "**WOLVERINE/LOGAN :** 36"
      ],
      "text/plain": [
       "WOLVERINE/LOGAN  \n",
       "              36 "
      ]
     },
     "metadata": {},
     "output_type": "display_data"
    }
   ],
   "source": [
    "# Find cluster of Wolverine/Logan\n",
    "membership(res_multilevel)['WOLVERINE/LOGAN '] # first way - by name\n",
    "# membership(res_multilevel)[6306] # second way - by id\n",
    "\n",
    "# So Wolverine/Logan belongs to cluster 36"
   ]
  },
  {
   "cell_type": "code",
   "execution_count": 12,
   "metadata": {
    "scrolled": true
   },
   "outputs": [
    {
     "name": "stderr",
     "output_type": "stream",
     "text": [
      "Size of cluster to which Wolverine/Logan belongs is: 3136\n"
     ]
    }
   ],
   "source": [
    "# Count number of vertices that have the same cluster as Wolverine / Logan\n",
    "logan_size <- sum(membership(res_multilevel) == membership(res_multilevel)['WOLVERINE/LOGAN '])\n",
    "message('Size of cluster to which Wolverine/Logan belongs is: ', logan_size)"
   ]
  },
  {
   "cell_type": "code",
   "execution_count": 13,
   "metadata": {},
   "outputs": [],
   "source": [
    "# Extract vertices that have the same cluster number as Logan \n",
    "logan_cluster <- membership(res_multilevel)[(membership(res_multilevel) == membership(res_multilevel)['WOLVERINE/LOGAN '])]\n",
    "\n",
    "# Extract the vertices names\n",
    "logan_cluster <- names(logan_cluster)\n",
    "\n",
    "# Extract graph from marvel_net that have names in logan_cluster\n",
    "logan_net <- induced_subgraph(marvel_net, logan_cluster)"
   ]
  },
  {
   "cell_type": "code",
   "execution_count": 14,
   "metadata": {},
   "outputs": [
    {
     "data": {
      "image/png": "[encoded data removed]",
      "text/plain": [
       "Plot with title \"\""
      ]
     },
     "metadata": {},
     "output_type": "display_data"
    }
   ],
   "source": [
    "# Display graph of Logan\n",
    "logan_net$layout <- layout_nicely(logan_net) # choose fixed default layout\n",
    "par(mar = rep(0,4)) # set margin\n",
    "plot(logan_net,\n",
    "     vertex.size = 2,\n",
    "     vertex.color = 'darkblue', # can be replaced by logan_vcol\n",
    "     vertex.frame.color = 'darkblue', # can be replaced by logan_vcol\n",
    "     vertex.label = NA)"
   ]
  }
 ],
 "metadata": {
  "kernelspec": {
   "display_name": "R",
   "language": "R",
   "name": "ir"
  },
  "language_info": {
   "codemirror_mode": "r",
   "file_extension": ".r",
   "mimetype": "text/x-r-source",
   "name": "R",
   "pygments_lexer": "r",
   "version": "3.5.1"
  },
  "varInspector": {
   "cols": {
    "lenName": 16,
    "lenType": 16,
    "lenVar": 40
   },
   "kernels_config": {
    "python": {
     "delete_cmd_postfix": "",
     "delete_cmd_prefix": "del ",
     "library": "var_list.py",
     "varRefreshCmd": "print(var_dic_list())"
    },
    "r": {
     "delete_cmd_postfix": ") ",
     "delete_cmd_prefix": "rm(",
     "library": "var_list.r",
     "varRefreshCmd": "cat(var_dic_list()) "
    }
   },
   "types_to_exclude": [
    "module",
    "function",
    "builtin_function_or_method",
    "instance",
    "_Feature"
   ],
   "window_display": false
  }
 },
 "nbformat": 4,
 "nbformat_minor": 2
}
